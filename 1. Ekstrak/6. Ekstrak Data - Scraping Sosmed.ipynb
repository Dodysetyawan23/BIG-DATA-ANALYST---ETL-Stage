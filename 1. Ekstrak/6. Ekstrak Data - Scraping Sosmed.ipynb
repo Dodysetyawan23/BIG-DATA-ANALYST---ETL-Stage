{
 "cells": [
  {
   "cell_type": "markdown",
   "id": "042abec2",
   "metadata": {},
   "source": [
    "# Scraping Sosmed\n",
    "Scraping sosial media seperti instagram, facebook,  twitter dan lainnya perlu menggunakan API yang telah disediakan. Sehingga mendapatkan data selain dari API resmi tersebut, maka dapat dikatakan **ilegal** kecuali untuk tujuan riset/edukasi."
   ]
  },
  {
   "cell_type": "markdown",
   "id": "3e644bf4",
   "metadata": {},
   "source": [
    "# 1. Scraping Twitter\n",
    "Daftar sebagai dev di https://developer.x.com/en."
   ]
  },
  {
   "cell_type": "code",
   "execution_count": 1,
   "id": "43789ff0",
   "metadata": {},
   "outputs": [],
   "source": [
    "# pip install tweepy"
   ]
  },
  {
   "cell_type": "code",
   "execution_count": 2,
   "id": "a17485f5",
   "metadata": {},
   "outputs": [],
   "source": [
    "import tweepy"
   ]
  },
  {
   "cell_type": "code",
   "execution_count": 3,
   "id": "1ef9c4de",
   "metadata": {},
   "outputs": [],
   "source": [
    "# Masukkan kunci API dan akses token dari Twitter Developer\n",
    "api_key = \"xxxx\"\n",
    "api_key_secret = \"xxxx\"\n",
    "access_token = \"xxxx\"\n",
    "access_token_secret = \"xxxx\"\n",
    "bearer_token = 'xxxx'"
   ]
  },
  {
   "cell_type": "code",
   "execution_count": 4,
   "id": "dfb4cfe5",
   "metadata": {},
   "outputs": [
    {
     "ename": "TooManyRequests",
     "evalue": "429 Too Many Requests\nToo Many Requests",
     "output_type": "error",
     "traceback": [
      "\u001b[0;31m---------------------------------------------------------------------------\u001b[0m",
      "\u001b[0;31mTooManyRequests\u001b[0m                           Traceback (most recent call last)",
      "Cell \u001b[0;32mIn[4], line 10\u001b[0m\n\u001b[1;32m      8\u001b[0m \u001b[38;5;66;03m# Mencari tweet dengan kata kunci tertentu\u001b[39;00m\n\u001b[1;32m      9\u001b[0m query \u001b[38;5;241m=\u001b[39m \u001b[38;5;124m'\u001b[39m\u001b[38;5;124mPython programming\u001b[39m\u001b[38;5;124m'\u001b[39m\n\u001b[0;32m---> 10\u001b[0m tweets \u001b[38;5;241m=\u001b[39m \u001b[43mclient\u001b[49m\u001b[38;5;241;43m.\u001b[39;49m\u001b[43msearch_recent_tweets\u001b[49m\u001b[43m(\u001b[49m\u001b[43mquery\u001b[49m\u001b[38;5;241;43m=\u001b[39;49m\u001b[43mquery\u001b[49m\u001b[43m,\u001b[49m\u001b[43m \u001b[49m\u001b[43mmax_results\u001b[49m\u001b[38;5;241;43m=\u001b[39;49m\u001b[38;5;241;43m2\u001b[39;49m\u001b[43m)\u001b[49m\n\u001b[1;32m     12\u001b[0m \u001b[38;5;66;03m# Menampilkan hasil\u001b[39;00m\n\u001b[1;32m     13\u001b[0m \u001b[38;5;28;01mfor\u001b[39;00m tweet \u001b[38;5;129;01min\u001b[39;00m tweets\u001b[38;5;241m.\u001b[39mdata:\n",
      "File \u001b[0;32m/opt/conda/lib/python3.10/site-packages/tweepy/client.py:1266\u001b[0m, in \u001b[0;36mClient.search_recent_tweets\u001b[0;34m(self, query, user_auth, **params)\u001b[0m\n\u001b[1;32m   1174\u001b[0m \u001b[38;5;250m\u001b[39m\u001b[38;5;124;03m\"\"\"search_recent_tweets( \\\u001b[39;00m\n\u001b[1;32m   1175\u001b[0m \u001b[38;5;124;03m    query, *, end_time=None, expansions=None, max_results=None, \\\u001b[39;00m\n\u001b[1;32m   1176\u001b[0m \u001b[38;5;124;03m    media_fields=None, next_token=None, place_fields=None, \\\u001b[39;00m\n\u001b[0;32m   (...)\u001b[0m\n\u001b[1;32m   1263\u001b[0m \u001b[38;5;124;03m.. _Academic Research Project: https://developer.twitter.com/en/docs/projects\u001b[39;00m\n\u001b[1;32m   1264\u001b[0m \u001b[38;5;124;03m\"\"\"\u001b[39;00m\n\u001b[1;32m   1265\u001b[0m params[\u001b[38;5;124m\"\u001b[39m\u001b[38;5;124mquery\u001b[39m\u001b[38;5;124m\"\u001b[39m] \u001b[38;5;241m=\u001b[39m query\n\u001b[0;32m-> 1266\u001b[0m \u001b[38;5;28;01mreturn\u001b[39;00m \u001b[38;5;28;43mself\u001b[39;49m\u001b[38;5;241;43m.\u001b[39;49m\u001b[43m_make_request\u001b[49m\u001b[43m(\u001b[49m\n\u001b[1;32m   1267\u001b[0m \u001b[43m    \u001b[49m\u001b[38;5;124;43m\"\u001b[39;49m\u001b[38;5;124;43mGET\u001b[39;49m\u001b[38;5;124;43m\"\u001b[39;49m\u001b[43m,\u001b[49m\u001b[43m \u001b[49m\u001b[38;5;124;43m\"\u001b[39;49m\u001b[38;5;124;43m/2/tweets/search/recent\u001b[39;49m\u001b[38;5;124;43m\"\u001b[39;49m\u001b[43m,\u001b[49m\u001b[43m \u001b[49m\u001b[43mparams\u001b[49m\u001b[38;5;241;43m=\u001b[39;49m\u001b[43mparams\u001b[49m\u001b[43m,\u001b[49m\n\u001b[1;32m   1268\u001b[0m \u001b[43m    \u001b[49m\u001b[43mendpoint_parameters\u001b[49m\u001b[38;5;241;43m=\u001b[39;49m\u001b[43m(\u001b[49m\n\u001b[1;32m   1269\u001b[0m \u001b[43m        \u001b[49m\u001b[38;5;124;43m\"\u001b[39;49m\u001b[38;5;124;43mend_time\u001b[39;49m\u001b[38;5;124;43m\"\u001b[39;49m\u001b[43m,\u001b[49m\u001b[43m \u001b[49m\u001b[38;5;124;43m\"\u001b[39;49m\u001b[38;5;124;43mexpansions\u001b[39;49m\u001b[38;5;124;43m\"\u001b[39;49m\u001b[43m,\u001b[49m\u001b[43m \u001b[49m\u001b[38;5;124;43m\"\u001b[39;49m\u001b[38;5;124;43mmax_results\u001b[39;49m\u001b[38;5;124;43m\"\u001b[39;49m\u001b[43m,\u001b[49m\u001b[43m \u001b[49m\u001b[38;5;124;43m\"\u001b[39;49m\u001b[38;5;124;43mmedia.fields\u001b[39;49m\u001b[38;5;124;43m\"\u001b[39;49m\u001b[43m,\u001b[49m\n\u001b[1;32m   1270\u001b[0m \u001b[43m        \u001b[49m\u001b[38;5;124;43m\"\u001b[39;49m\u001b[38;5;124;43mnext_token\u001b[39;49m\u001b[38;5;124;43m\"\u001b[39;49m\u001b[43m,\u001b[49m\u001b[43m \u001b[49m\u001b[38;5;124;43m\"\u001b[39;49m\u001b[38;5;124;43mplace.fields\u001b[39;49m\u001b[38;5;124;43m\"\u001b[39;49m\u001b[43m,\u001b[49m\u001b[43m \u001b[49m\u001b[38;5;124;43m\"\u001b[39;49m\u001b[38;5;124;43mpoll.fields\u001b[39;49m\u001b[38;5;124;43m\"\u001b[39;49m\u001b[43m,\u001b[49m\u001b[43m \u001b[49m\u001b[38;5;124;43m\"\u001b[39;49m\u001b[38;5;124;43mquery\u001b[39;49m\u001b[38;5;124;43m\"\u001b[39;49m\u001b[43m,\u001b[49m\n\u001b[1;32m   1271\u001b[0m \u001b[43m        \u001b[49m\u001b[38;5;124;43m\"\u001b[39;49m\u001b[38;5;124;43msince_id\u001b[39;49m\u001b[38;5;124;43m\"\u001b[39;49m\u001b[43m,\u001b[49m\u001b[43m \u001b[49m\u001b[38;5;124;43m\"\u001b[39;49m\u001b[38;5;124;43msort_order\u001b[39;49m\u001b[38;5;124;43m\"\u001b[39;49m\u001b[43m,\u001b[49m\u001b[43m \u001b[49m\u001b[38;5;124;43m\"\u001b[39;49m\u001b[38;5;124;43mstart_time\u001b[39;49m\u001b[38;5;124;43m\"\u001b[39;49m\u001b[43m,\u001b[49m\u001b[43m \u001b[49m\u001b[38;5;124;43m\"\u001b[39;49m\u001b[38;5;124;43mtweet.fields\u001b[39;49m\u001b[38;5;124;43m\"\u001b[39;49m\u001b[43m,\u001b[49m\n\u001b[1;32m   1272\u001b[0m \u001b[43m        \u001b[49m\u001b[38;5;124;43m\"\u001b[39;49m\u001b[38;5;124;43muntil_id\u001b[39;49m\u001b[38;5;124;43m\"\u001b[39;49m\u001b[43m,\u001b[49m\u001b[43m \u001b[49m\u001b[38;5;124;43m\"\u001b[39;49m\u001b[38;5;124;43muser.fields\u001b[39;49m\u001b[38;5;124;43m\"\u001b[39;49m\n\u001b[1;32m   1273\u001b[0m \u001b[43m    \u001b[49m\u001b[43m)\u001b[49m\u001b[43m,\u001b[49m\u001b[43m \u001b[49m\u001b[43mdata_type\u001b[49m\u001b[38;5;241;43m=\u001b[39;49m\u001b[43mTweet\u001b[49m\u001b[43m,\u001b[49m\u001b[43m \u001b[49m\u001b[43muser_auth\u001b[49m\u001b[38;5;241;43m=\u001b[39;49m\u001b[43muser_auth\u001b[49m\n\u001b[1;32m   1274\u001b[0m \u001b[43m\u001b[49m\u001b[43m)\u001b[49m\n",
      "File \u001b[0;32m/opt/conda/lib/python3.10/site-packages/tweepy/client.py:129\u001b[0m, in \u001b[0;36mBaseClient._make_request\u001b[0;34m(self, method, route, params, endpoint_parameters, json, data_type, user_auth)\u001b[0m\n\u001b[1;32m    123\u001b[0m \u001b[38;5;28;01mdef\u001b[39;00m \u001b[38;5;21m_make_request\u001b[39m(\n\u001b[1;32m    124\u001b[0m     \u001b[38;5;28mself\u001b[39m, method, route, params\u001b[38;5;241m=\u001b[39m{}, endpoint_parameters\u001b[38;5;241m=\u001b[39m(), json\u001b[38;5;241m=\u001b[39m\u001b[38;5;28;01mNone\u001b[39;00m,\n\u001b[1;32m    125\u001b[0m     data_type\u001b[38;5;241m=\u001b[39m\u001b[38;5;28;01mNone\u001b[39;00m, user_auth\u001b[38;5;241m=\u001b[39m\u001b[38;5;28;01mFalse\u001b[39;00m\n\u001b[1;32m    126\u001b[0m ):\n\u001b[1;32m    127\u001b[0m     request_params \u001b[38;5;241m=\u001b[39m \u001b[38;5;28mself\u001b[39m\u001b[38;5;241m.\u001b[39m_process_params(params, endpoint_parameters)\n\u001b[0;32m--> 129\u001b[0m     response \u001b[38;5;241m=\u001b[39m \u001b[38;5;28;43mself\u001b[39;49m\u001b[38;5;241;43m.\u001b[39;49m\u001b[43mrequest\u001b[49m\u001b[43m(\u001b[49m\u001b[43mmethod\u001b[49m\u001b[43m,\u001b[49m\u001b[43m \u001b[49m\u001b[43mroute\u001b[49m\u001b[43m,\u001b[49m\u001b[43m \u001b[49m\u001b[43mparams\u001b[49m\u001b[38;5;241;43m=\u001b[39;49m\u001b[43mrequest_params\u001b[49m\u001b[43m,\u001b[49m\n\u001b[1;32m    130\u001b[0m \u001b[43m                            \u001b[49m\u001b[43mjson\u001b[49m\u001b[38;5;241;43m=\u001b[39;49m\u001b[43mjson\u001b[49m\u001b[43m,\u001b[49m\u001b[43m \u001b[49m\u001b[43muser_auth\u001b[49m\u001b[38;5;241;43m=\u001b[39;49m\u001b[43muser_auth\u001b[49m\u001b[43m)\u001b[49m\n\u001b[1;32m    132\u001b[0m     \u001b[38;5;28;01mif\u001b[39;00m \u001b[38;5;28mself\u001b[39m\u001b[38;5;241m.\u001b[39mreturn_type \u001b[38;5;129;01mis\u001b[39;00m requests\u001b[38;5;241m.\u001b[39mResponse:\n\u001b[1;32m    133\u001b[0m         \u001b[38;5;28;01mreturn\u001b[39;00m response\n",
      "File \u001b[0;32m/opt/conda/lib/python3.10/site-packages/tweepy/client.py:115\u001b[0m, in \u001b[0;36mBaseClient.request\u001b[0;34m(self, method, route, params, json, user_auth)\u001b[0m\n\u001b[1;32m    113\u001b[0m         \u001b[38;5;28;01mreturn\u001b[39;00m \u001b[38;5;28mself\u001b[39m\u001b[38;5;241m.\u001b[39mrequest(method, route, params, json, user_auth)\n\u001b[1;32m    114\u001b[0m     \u001b[38;5;28;01melse\u001b[39;00m:\n\u001b[0;32m--> 115\u001b[0m         \u001b[38;5;28;01mraise\u001b[39;00m TooManyRequests(response)\n\u001b[1;32m    116\u001b[0m \u001b[38;5;28;01mif\u001b[39;00m response\u001b[38;5;241m.\u001b[39mstatus_code \u001b[38;5;241m>\u001b[39m\u001b[38;5;241m=\u001b[39m \u001b[38;5;241m500\u001b[39m:\n\u001b[1;32m    117\u001b[0m     \u001b[38;5;28;01mraise\u001b[39;00m TwitterServerError(response)\n",
      "\u001b[0;31mTooManyRequests\u001b[0m: 429 Too Many Requests\nToo Many Requests"
     ]
    }
   ],
   "source": [
    "# Autentikasi menggunakan Bearer Token\n",
    "client = tweepy.Client(bearer_token=bearer_token)\n",
    "\n",
    "# Mencari tweet dengan kata kunci tertentu\n",
    "query = 'Python programming'\n",
    "tweets = client.search_recent_tweets(query=query, max_results=2)\n",
    "\n",
    "# Menampilkan hasil\n",
    "for tweet in tweets.data:\n",
    "    print(f\"Tweet ID: {tweet.id}\")\n",
    "    print(f\"Teks: {tweet.text}\")\n",
    "    print(f\"Username: {tweet.author_id}\")\n",
    "    print('---')"
   ]
  },
  {
   "cell_type": "markdown",
   "id": "4b6a3d0d",
   "metadata": {},
   "source": [
    "Scraping ini kadangkala bisa berhasil sempurna ketika berlangganan API Full Acceess agar tidak mendapatkan limitasi. Dan bisa juga di lain waktu hasil bisa berubah tiap waktu."
   ]
  },
  {
   "cell_type": "markdown",
   "id": "c27a2cfe",
   "metadata": {},
   "source": [
    "# 2. Scraping Youtube Comment\n",
    "Scraping menggunakan platform google lebih mudah karena bisa menggunakan google console. Cara mendaftarnya di https://console.cloud.google.com/"
   ]
  },
  {
   "cell_type": "code",
   "execution_count": 30,
   "id": "4f067630",
   "metadata": {},
   "outputs": [],
   "source": [
    "# pip install google-api-python-client"
   ]
  },
  {
   "cell_type": "markdown",
   "id": "9ca96ccf",
   "metadata": {},
   "source": [
    "url  = https://www.youtube.com/watch?v=H7zPxDF6Kj0"
   ]
  },
  {
   "cell_type": "code",
   "execution_count": 36,
   "id": "180f5733",
   "metadata": {},
   "outputs": [],
   "source": [
    "api_key_youtube = 'xxxxx'\n",
    "id_video = 'H7zPxDF6Kj0'"
   ]
  },
  {
   "cell_type": "code",
   "execution_count": 32,
   "id": "8160e36d",
   "metadata": {},
   "outputs": [],
   "source": [
    "from googleapiclient.discovery import build"
   ]
  },
  {
   "cell_type": "code",
   "execution_count": 33,
   "id": "dc9a6995",
   "metadata": {},
   "outputs": [],
   "source": [
    "# API Key Anda\n",
    "api_key = api_key_youtube\n",
    "\n",
    "# Membangun client untuk YouTube API\n",
    "youtube = build('youtube', 'v3', developerKey=api_key)\n",
    "\n",
    "# ID video dari video yang ingin Anda ambil komentarnya\n",
    "video_id = id_video\n",
    "\n",
    "# Membuat list kosong untuk menyimpan komentar\n",
    "comments = []"
   ]
  },
  {
   "cell_type": "code",
   "execution_count": 34,
   "id": "6792fd94",
   "metadata": {},
   "outputs": [],
   "source": [
    "# Mengambil komentar dari video\n",
    "response = youtube.commentThreads().list(\n",
    "    part='snippet',\n",
    "    videoId=video_id,\n",
    "    maxResults=50\n",
    ").execute()\n",
    "\n",
    "# Menambahkan komentar ke dalam list `comments`\n",
    "for item in response['items']:\n",
    "    comment = item['snippet']['topLevelComment']['snippet']['textDisplay']\n",
    "    author = item['snippet']['topLevelComment']['snippet']['authorDisplayName']\n",
    "    # Menggunakan append untuk menambahkan komentar ke dalam list\n",
    "    comments.append(f\"{author}: {comment}\")"
   ]
  },
  {
   "cell_type": "code",
   "execution_count": 35,
   "id": "2631a7d7",
   "metadata": {},
   "outputs": [
    {
     "data": {
      "text/plain": [
       "['@arisnurohman8318: Masa kalah sama pejuang gaza yg ga sekolah 😂',\n",
       " '@matagarudasatrio7889: Mana rudal nya goblok ngapain mortir di pikirin mana rudal hipersonik mana rudal arhanud pengkis rudal musuh.',\n",
       " '@BaharRirik: Kapan Indonesia bisa bikin rudal sendiri',\n",
       " '@neeternfallenflight3676: Istimewahhhh memang 🔥🔥🔥',\n",
       " '@addyal-kautzar2924: Gaaaaas bang, isok mosoh Isriwil iki',\n",
       " '@sharkmasherk9288: Terbaik mmg',\n",
       " '@ilhamromdhoni1964: Mantap sekali inovasinya pak',\n",
       " '@RetnaRosalena: Keren👏👏👏']"
      ]
     },
     "execution_count": 35,
     "metadata": {},
     "output_type": "execute_result"
    }
   ],
   "source": [
    "comments"
   ]
  },
  {
   "cell_type": "code",
   "execution_count": 39,
   "id": "62e35c1c",
   "metadata": {},
   "outputs": [],
   "source": [
    "comments2 = []\n",
    "# Mengambil komentar dari video\n",
    "response = youtube.commentThreads().list(\n",
    "    part='snippet',\n",
    "    videoId='0jacj_-J7AU',\n",
    "    maxResults=50\n",
    ").execute()\n",
    "\n",
    "# Menambahkan komentar ke dalam list `comments`\n",
    "for item in response['items']:\n",
    "    comment = item['snippet']['topLevelComment']['snippet']['textDisplay']\n",
    "    author = item['snippet']['topLevelComment']['snippet']['authorDisplayName']\n",
    "    # Menggunakan append untuk menambahkan komentar ke dalam list\n",
    "    comments2.append(f\"{author}: {comment}\")"
   ]
  },
  {
   "cell_type": "code",
   "execution_count": 40,
   "id": "468a8402",
   "metadata": {},
   "outputs": [
    {
     "data": {
      "text/plain": [
       "['@EndriAna-k1w: sukses sll bapak👏',\n",
       " '@dewinugraheny: Sukses selalu Bapak 🔥🔥🔥',\n",
       " '@IstiQomah-xx5lz: Maju dan sukses selalu Pak',\n",
       " '@susilohardiknyo4094: Keren ikut bangga',\n",
       " '@IkhwanHariono: Jossssss',\n",
       " '@hendriktambunan2933: Selamat dan sukses pak',\n",
       " '@lilisindahyani4575: Semangat dan sehat selalu keren...banget',\n",
       " '@Nathaliaaww: Wiiihh🎉',\n",
       " '@emisuprihatin4454: Kereeen..... Lanjutkan.... 👍👍',\n",
       " '@wahyuika5808: semoga sukses selalu..💪💪',\n",
       " '@idamisaroh3835: Mantap.. Sukses selalu..',\n",
       " '@nitarimayanti352: Kereeennnn...',\n",
       " '@ProdiRekamsiber: luar biasa dosen rekamsiber ttap semangat',\n",
       " '@imamwahyudi-s2h: Sukses sll ndan....',\n",
       " '@retnoindahwati8306: Mantaaf P Komandan',\n",
       " '@yuyunkusmiarsih3337: Mantap. Sukses selalu Pak👍👍👍',\n",
       " '@sugenghariadi1995: Mantap dan sukses,ikut bangga.',\n",
       " '@unggulbudi9602: Sukses buat mas Bambang. Mantabbb...',\n",
       " '@AstutySadlin: Sukses terus...pk kapten👍👍👍',\n",
       " '@WahjuWidjajani: Saya bangga pernah bersama Beliau  menemani menjadi salah satu pembimbingnya',\n",
       " '@amirudinfaiz6979: Mantaaap kept',\n",
       " '@antoniusnenet5465: Mantap dan luar biasa dosen elkasista....poltekad🔥🔥🔥',\n",
       " '@ZaZain-w2r: Luar Biasa Sangat Membanggakan Bagi Kami Guru Guru',\n",
       " '@karimah_ima_7200: Luar biasa dosen Elka poltekad',\n",
       " '@karimah_ima_7200: Luar biasa dosen Elka poltekad',\n",
       " '@rizkisetiawan5573: Luar biasa tetap semangatt',\n",
       " '@pahyulrizal3871: ente keren brother, sehat &amp; sukses sll, Aamiin Ya Robbal&#39;Alamiin',\n",
       " '@jekisaputra4544: Mantap dan luar biasa dosen elka Poltekad']"
      ]
     },
     "execution_count": 40,
     "metadata": {},
     "output_type": "execute_result"
    }
   ],
   "source": [
    "comments2"
   ]
  },
  {
   "cell_type": "code",
   "execution_count": null,
   "id": "28351fd0",
   "metadata": {},
   "outputs": [],
   "source": []
  }
 ],
 "metadata": {
  "kernelspec": {
   "display_name": "Python 3 (ipykernel)",
   "language": "python",
   "name": "python3"
  },
  "language_info": {
   "codemirror_mode": {
    "name": "ipython",
    "version": 3
   },
   "file_extension": ".py",
   "mimetype": "text/x-python",
   "name": "python",
   "nbconvert_exporter": "python",
   "pygments_lexer": "ipython3",
   "version": "3.10.10"
  }
 },
 "nbformat": 4,
 "nbformat_minor": 5
}
